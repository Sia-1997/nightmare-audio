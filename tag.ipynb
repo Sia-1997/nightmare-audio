{
 "metadata": {
  "language_info": {
   "codemirror_mode": {
    "name": "ipython",
    "version": 3
   },
   "file_extension": ".py",
   "mimetype": "text/x-python",
   "name": "python",
   "nbconvert_exporter": "python",
   "pygments_lexer": "ipython3",
   "version": "3.7.7-final"
  },
  "orig_nbformat": 2,
  "kernelspec": {
   "name": "python_defaultSpec_1597680044505",
   "display_name": "Python 3.7.7 64-bit ('tensorflow': conda)"
  }
 },
 "nbformat": 4,
 "nbformat_minor": 2,
 "cells": [
  {
   "cell_type": "code",
   "execution_count": 39,
   "metadata": {
    "tags": []
   },
   "outputs": [
    {
     "output_type": "stream",
     "name": "stdout",
     "text": "[[0 1 2]\n [3 4 5]\n [6 7 8]]\n[[2]\n [5]\n [8]]\n"
    }
   ],
   "source": [
    "import numpy as np\n",
    "c = np.arange(9).reshape(3,3)\n",
    "print(c)\n",
    "d = []\n",
    "for i in c:\n",
    "    d.append(i[2])\n",
    "\n",
    "# print(d)\n",
    "\n",
    "d = np.array((d))\n",
    "\n",
    "# print(d)\n",
    "\n",
    "dd = d.reshape(3,1)\n",
    "print(dd)\n"
   ]
  },
  {
   "cell_type": "code",
   "execution_count": 71,
   "metadata": {
    "tags": []
   },
   "outputs": [
    {
     "output_type": "stream",
     "name": "stdout",
     "text": "(1, 1, 3)\n(1, 1, 1)\n"
    }
   ],
   "source": [
    "import tensorflow as tf\n",
    "\n",
    "# 创建一个常量 op, 产生一个 1x2 矩阵. 这个 op 被作为一个节点\n",
    "# 加到默认图中.\n",
    "#\n",
    "# 构造器的返回值代表该常量 op 的返回值.\n",
    "matrix1 = tf.constant([[[2,3,4]]])\n",
    "\n",
    "# matrix2 = matrix1[0,0,2]\n",
    "matrix2 = tf.reshape(matrix1[0,0,2],(1,1,1))\n",
    "\n",
    "print(matrix1.shape)\n",
    "print(matrix2.shape)\n"
   ]
  },
  {
   "cell_type": "code",
   "execution_count": null,
   "metadata": {},
   "outputs": [],
   "source": []
  }
 ]
}